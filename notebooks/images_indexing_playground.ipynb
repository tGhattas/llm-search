{
 "cells": [
  {
   "cell_type": "markdown",
   "metadata": {},
   "source": [
    "# Jupyter Notebook Playground for Image Indexing with Image-to-Text and LLM\n",
    "\n",
    "This Jupyter Notebook playground provides a hands-on experience for exploring image indexing techniques using image-to-text conversion and the Locality-sensitive Hashing (LLM) algorithm. Through this interactive environment, you can experiment with different images, convert them to text representations, and apply LLM to efficiently index and search for similar images based on their textual descriptions."
   ]
  },
  {
   "cell_type": "code",
   "execution_count": null,
   "metadata": {},
   "outputs": [],
   "source": [
    "# from llama_cpp import Llama\n",
    "# model = Llama(model_path=\"./llm/models/airoboros-l2-13b-gpt4-1.4.1.Q4_K_M.gguf\")"
   ]
  },
  {
   "cell_type": "code",
   "execution_count": null,
   "metadata": {},
   "outputs": [],
   "source": [
    "!pip install matplotlib ipywidgets"
   ]
  },
  {
   "cell_type": "code",
   "execution_count": null,
   "metadata": {},
   "outputs": [],
   "source": [
    "\n"
   ]
  },
  {
   "cell_type": "code",
   "execution_count": null,
   "metadata": {},
   "outputs": [],
   "source": [
    "## EXAMPLE\n",
    "\n",
    "# Load a sample image from CIFAR-10\n",
    "transform = transforms.Compose([\n",
    "    transforms.ToTensor(),  # Convert PIL images to tensors\n",
    "])\n",
    "dataset = CIFAR10(root='./data', download=True, train=True, transform=transform)\n",
    "dataloader = DataLoader(dataset, batch_size=1, shuffle=True)\n",
    "images, _ = next(iter(dataloader))\n",
    "# Display the image\n",
    "image = ToPILImage()(images[0])\n",
    "plt.imshow(image)\n",
    "plt.axis('off')\n",
    "plt.show()\n",
    "\n",
    "# Generate and print the caption\n",
    "caption = generate_image_caption(image)\n",
    "print(\"Generated Caption:\", caption)"
   ]
  },
  {
   "cell_type": "code",
   "execution_count": null,
   "metadata": {},
   "outputs": [],
   "source": [
    "## image upload\n",
    "\n",
    "# Import necessary libraries\n",
    "import io\n",
    "import IPython.display as display\n",
    "from PIL import Image\n",
    "from ipywidgets import widgets\n",
    "import numpy as np\n",
    "\n",
    "# Function to preprocess the image (customize as needed)\n",
    "def preprocess_image(image):\n",
    "    # For instance, resize the image if required by your model\n",
    "    # image = image.resize((target_width, target_height))\n",
    "    if image.mode == 'RGBA':\n",
    "        image = image.convert('RGB')\n",
    "    return image\n",
    "\n",
    "# Function to handle the uploaded image and generate captions\n",
    "def on_upload_change(change):\n",
    "    if not change.new:\n",
    "        return\n",
    "    \n",
    "    up = change.owner\n",
    "    for file_info in up.value:\n",
    "        \n",
    "        # Process the uploaded file\n",
    "        content = file_info['content']\n",
    "        image = Image.open(io.BytesIO(content))\n",
    "        image = preprocess_image(image)\n",
    "        \n",
    "        # Display the uploaded image\n",
    "        display.display(image)\n",
    "\n",
    "        # Assuming you have a function `generate_caption` that takes an image and returns a caption\n",
    "        caption = generate_image_caption(image)\n",
    "        print(f\"Caption: {caption}\")\n",
    "\n",
    "# Create the upload widget\n",
    "upload = widgets.FileUpload(accept='image/*', multiple=False)\n",
    "upload.observe(on_upload_change, names='value')\n",
    "\n",
    "# Display the widget\n",
    "display.display(upload)\n"
   ]
  },
  {
   "cell_type": "code",
   "execution_count": null,
   "metadata": {},
   "outputs": [],
   "source": []
  }
 ],
 "metadata": {
  "kernelspec": {
   "display_name": "venv",
   "language": "python",
   "name": "python3"
  },
  "language_info": {
   "codemirror_mode": {
    "name": "ipython",
    "version": 3
   },
   "file_extension": ".py",
   "mimetype": "text/x-python",
   "name": "python",
   "nbconvert_exporter": "python",
   "pygments_lexer": "ipython3",
   "version": "3.10.13"
  }
 },
 "nbformat": 4,
 "nbformat_minor": 2
}
